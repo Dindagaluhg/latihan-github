{
 "cells": [
  {
   "cell_type": "code",
   "execution_count": 1,
   "id": "f22014b6-92bd-4fe6-ba0c-b176a1d0f320",
   "metadata": {},
   "outputs": [
    {
     "name": "stdout",
     "output_type": "stream",
     "text": [
      "hai dinda\n"
     ]
    }
   ],
   "source": [
    "print(\"hai dinda\")"
   ]
  },
  {
   "cell_type": "code",
   "execution_count": 3,
   "id": "c3de5bfb-5395-4d7d-97c9-011570b89fab",
   "metadata": {},
   "outputs": [
    {
     "name": "stdout",
     "output_type": "stream",
     "text": [
      "hai dinda, ada perubahan\n"
     ]
    }
   ],
   "source": [
    "print(\"hai dinda, ada perubahan\")"
   ]
  }
 ],
 "metadata": {
  "kernelspec": {
   "display_name": "Python 3 (ipykernel)",
   "language": "python",
   "name": "python3"
  },
  "language_info": {
   "codemirror_mode": {
    "name": "ipython",
    "version": 3
   },
   "file_extension": ".py",
   "mimetype": "text/x-python",
   "name": "python",
   "nbconvert_exporter": "python",
   "pygments_lexer": "ipython3",
   "version": "3.10.9"
  }
 },
 "nbformat": 4,
 "nbformat_minor": 5
}
